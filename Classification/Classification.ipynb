{
 "cells": [
  {
   "cell_type": "markdown",
   "metadata": {},
   "source": [
    "## 1. Import des bibliotheques"
   ]
  },
  {
   "cell_type": "code",
   "execution_count": 2,
   "metadata": {},
   "outputs": [],
   "source": [
    "# Bibliothèques standards\n",
    "import numpy as np\n",
    "import pandas as pd\n",
    "\n",
    "# Importation des jeux de données\n",
    "from sklearn.datasets import fetch_california_housing, load_iris\n",
    "\n",
    "# Séparation des données (train/test)\n",
    "from sklearn.model_selection import train_test_split\n",
    "\n",
    "# Prétraitement des données\n",
    "from sklearn.preprocessing import StandardScaler, OneHotEncoder\n",
    "from sklearn.compose import ColumnTransformer\n",
    "\n",
    "# Pipelines\n",
    "from sklearn.pipeline import Pipeline, make_pipeline\n",
    "\n",
    "# Modèles de Machine Learning\n",
    "from sklearn.linear_model import LogisticRegression\n",
    "from sklearn.neighbors import KNeighborsClassifier\n",
    "from sklearn.ensemble import RandomForestClassifier\n",
    "from sklearn.svm import SVC\n",
    "from sklearn.ensemble import StackingClassifier\n",
    "\n",
    "# Évaluation et validation des modèles\n",
    "from sklearn.model_selection import GridSearchCV, cross_val_score\n",
    "from sklearn.metrics import accuracy_score"
   ]
  },
  {
   "cell_type": "markdown",
   "metadata": {},
   "source": [
    "## 2. Chargement et préparation des données"
   ]
  },
  {
   "cell_type": "code",
   "execution_count": 3,
   "metadata": {},
   "outputs": [],
   "source": [
    "# Chargement du jeu de données Iris\n",
    "iris = load_iris(as_frame=True)\n",
    "df_iris=iris.frame\n",
    "X=df_iris.drop(\"target\", axis=1)\n",
    "y=df_iris[\"target\"]\n"
   ]
  },
  {
   "cell_type": "markdown",
   "metadata": {},
   "source": [
    "## 3. Séparation des données en ensembles d'entraînement et de test"
   ]
  },
  {
   "cell_type": "code",
   "execution_count": 4,
   "metadata": {},
   "outputs": [],
   "source": [
    "# Division des données en ensembles d'entraînement et de test\n",
    "X_train, X_test, y_train, y_test = train_test_split(X, y, test_size=0.2, random_state=42)"
   ]
  },
  {
   "cell_type": "markdown",
   "metadata": {},
   "source": [
    "## 4. Définition du prétraitement des données"
   ]
  },
  {
   "cell_type": "code",
   "execution_count": 5,
   "metadata": {},
   "outputs": [],
   "source": [
    "# Définir le prétraitement des variables\n",
    "numeric_features=X.select_dtypes(exclude=\"object\").columns.tolist()\n",
    "numeric_transformer = StandardScaler()\n",
    "\n",
    "categorical_features=X.select_dtypes(include=\"object\").columns.tolist()\n",
    "categorical_transformer = OneHotEncoder(handle_unknown='ignore')\n",
    "\n",
    "preprocessor = ColumnTransformer(\n",
    "    transformers=[\n",
    "        ('num', numeric_transformer, numeric_features),\n",
    "        ('cat', categorical_transformer, categorical_features)\n",
    "    ])"
   ]
  },
  {
   "cell_type": "markdown",
   "metadata": {},
   "source": [
    "## 5. Fonction d'évaluation des modèles"
   ]
  },
  {
   "cell_type": "code",
   "execution_count": 6,
   "metadata": {},
   "outputs": [],
   "source": [
    "# Fonction pour évaluer les models sur les données test et enregistrer les résultats\n",
    "def evaluate_model(model_name, pipeline, param_grid):\n",
    "    grid_search = GridSearchCV(pipeline, param_grid, scoring='accuracy', cv=3, n_jobs=-1)\n",
    "    grid_search.fit(X_train, y_train)\n",
    "    best_estimator = grid_search.best_estimator_\n",
    "    best_params=grid_search.best_params_\n",
    "\n",
    "    # Prédire sur les données de test\n",
    "    y_pred = best_estimator.predict(X_test)\n",
    "    test_score = accuracy_score(y_test, y_pred)\n",
    "\n",
    "    results.append({\n",
    "        'model': model_name,\n",
    "        'best_estimator': best_estimator,\n",
    "        'best_score': test_score,\n",
    "        'best_params': best_params\n",
    "    })\n",
    "\n",
    "    print(f\"Model: {model_name}, Test Score (Accuracy): {test_score}, Best Params: {grid_search.best_params_}\")"
   ]
  },
  {
   "cell_type": "markdown",
   "metadata": {},
   "source": [
    "## 6. Définition des modèles et des grilles d'hyperparamètres"
   ]
  },
  {
   "cell_type": "code",
   "execution_count": 7,
   "metadata": {},
   "outputs": [],
   "source": [
    "# Modèles et leurs grilles de paramètres ajustées à tester\n",
    "models = [\n",
    "    {\n",
    "        'name':  'Logistic Regression',\n",
    "        'pipeline': Pipeline(steps=[('preprocessor', preprocessor), ('classifier', LogisticRegression(max_iter=5000))]),\n",
    "        'param_grid': {\n",
    "            'classifier__C' : [0.1, 1, 10]\n",
    "        }\n",
    "    },\n",
    "    {\n",
    "        'name': 'KNN',\n",
    "        'pipeline': Pipeline(steps=[('preprocessor', preprocessor), ('classifier', KNeighborsClassifier())]),\n",
    "        'param_grid': {\n",
    "            'classifier__n_neighbors': [3, 5, 7]\n",
    "        }\n",
    "    },\n",
    "    {\n",
    "        'name': 'SVM',\n",
    "        'pipeline': Pipeline(steps=[('preprocessor', preprocessor), ('classifier', SVC(probability=True))]),\n",
    "        'param_grid': {\n",
    "            'classifier__C': [0.1, 1, 10], 'classifier__kernel':['linear', 'rbf']\n",
    "        }\n",
    "    },\n",
    "    {\n",
    "        'name': 'Random Forest ',\n",
    "        'pipeline': Pipeline(steps=[('preprocessor', preprocessor), ('classifier', RandomForestClassifier(random_state=42))]),\n",
    "        'param_grid': { \n",
    "            'classifier__n_estimators': [10, 50, 100], \n",
    "            'classifier__max_depth': [5, 10, 20],\n",
    "            'classifier__max_samples': [0.5, 1.0],\n",
    "            'classifier__max_features': [0.5, 1.0]\n",
    "        }\n",
    "    },\n",
    "     {Ò\n",
    "        'name': 'Stacking Classifier',\n",
    "        'pipeline': Pipeline(steps=[\n",
    "            ('preprocessor', preprocessor), \n",
    "            ('classifier', StackingClassifier(\n",
    "                estimators=[\n",
    "                    ('logreg', LogisticRegression(max_iter=5000)),\n",
    "                    ('knn', KNeighborsClassifier()),\n",
    "                    ('svm', SVC(probability=True)),\n",
    "                    ('rf', RandomForestClassifier(random_state=42))\n",
    "                ],\n",
    "                final_estimator=LogisticRegression(max_iter=5000),\n",
    "                cv=5,\n",
    "                n_jobs=-1\n",
    "            ))\n",
    "        ]),\n",
    "        'param_grid': {}  # Pas de paramètres à ajuster ici (par défaut)\n",
    "    }\n",
    "\n",
    "]\n",
    "\n",
    "\n"
   ]
  },
  {
   "cell_type": "markdown",
   "metadata": {},
   "source": [
    "## 7. Entraînement et évaluation des modèles"
   ]
  },
  {
   "cell_type": "code",
   "execution_count": 8,
   "metadata": {},
   "outputs": [
    {
     "name": "stdout",
     "output_type": "stream",
     "text": [
      "Model: Logistic Regression, Test Score (Accuracy): 1.0, Best Params: {'classifier__C': 1}\n",
      "Model: KNN, Test Score (Accuracy): 1.0, Best Params: {'classifier__n_neighbors': 7}\n",
      "Model: SVM, Test Score (Accuracy): 1.0, Best Params: {'classifier__C': 0.1, 'classifier__kernel': 'linear'}\n",
      "Model: Random Forest , Test Score (Accuracy): 1.0, Best Params: {'classifier__max_depth': 5, 'classifier__max_features': 0.5, 'classifier__max_samples': 0.5, 'classifier__n_estimators': 50}\n",
      "Model: Stacking Classifier, Test Score (Accuracy): 1.0, Best Params: {}\n"
     ]
    }
   ],
   "source": [
    "# Liste pour stocker les résultats des modèles\n",
    "results = []\n",
    "# Évaluation des modèles\n",
    "for model in models:\n",
    "    evaluate_model(model['name'], model['pipeline'], model['param_grid'])"
   ]
  },
  {
   "cell_type": "markdown",
   "metadata": {},
   "source": [
    "## 8. Sélection et affichage du meilleur modèle"
   ]
  },
  {
   "cell_type": "code",
   "execution_count": 9,
   "metadata": {},
   "outputs": [
    {
     "name": "stdout",
     "output_type": "stream",
     "text": [
      "\n",
      "Best Model:\n",
      "Model: Logistic Regression, Test Score (MSE): 1.0, Best Params: {'classifier__C': 1}\n"
     ]
    }
   ],
   "source": [
    "# Afficher les résultats des meilleurs modèles\n",
    "best_model = min(results, key=lambda x: x['best_score'])\n",
    "print(\"\\nBest Model:\")\n",
    "print(f\"Model: {best_model['model']}, Test Score (MSE): {best_model['best_score']}, Best Params: {best_model['best_params']}\")"
   ]
  },
  {
   "cell_type": "markdown",
   "metadata": {},
   "source": [
    "## 9. Sauvegarde et rechargement du meilleur modèle"
   ]
  },
  {
   "cell_type": "code",
   "execution_count": null,
   "metadata": {},
   "outputs": [],
   "source": [
    "# Enregistrer le meilleur modèle\n",
    "joblib.dump(best_model['best_estimator'], 'meilleur_modele.pkl')\n",
    "# Charger le modèle enregistré\n",
    "meilleur_modele = joblib.load('meilleur_modele.pkl')\n",
    "\n",
    "# Prédire avec le modèle chargé\n",
    "predictions = meilleur_modele.predict(X_test)"
   ]
  }
 ],
 "metadata": {
  "kernelspec": {
   "display_name": "venv",
   "language": "python",
   "name": "python3"
  },
  "language_info": {
   "codemirror_mode": {
    "name": "ipython",
    "version": 3
   },
   "file_extension": ".py",
   "mimetype": "text/x-python",
   "name": "python",
   "nbconvert_exporter": "python",
   "pygments_lexer": "ipython3",
   "version": "3.12.4"
  }
 },
 "nbformat": 4,
 "nbformat_minor": 2
}
